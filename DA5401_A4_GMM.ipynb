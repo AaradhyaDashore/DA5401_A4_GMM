{
 "cells": [
  {
   "cell_type": "markdown",
   "id": "84e074b7",
   "metadata": {},
   "source": [
    "# DA5401 - Assignment 4: GMM-Based Synthetic Sampling for Imbalanced Data\n",
    "\n",
    "***Name:** Aaradhya Dashore*  \n",
    "***Roll No:** ME22B089*\n",
    "\n",
    "## Abstract\n",
    "\n",
    "- This notebook explores Gaussian Mixture Model (GMM)-based synthetic sampling to address class imbalance in credit card fraud detection.\n",
    "- We compare a baseline Logistic Regression (trained on imbalanced data) with a model trained on a GMM-balanced dataset.\n",
    "- Steps include: data loading, baseline modeling, GMM fitting (AIC/BIC selection), synthetic sample generation, clustering-based undersampling (CBU), training, and evaluation.\n",
    "\n",
    "Run cells sequentially. Place `creditcard.csv` in the same folder before running."
   ]
  },
  {
   "cell_type": "markdown",
   "id": "ac2bab94",
   "metadata": {},
   "source": [
    "## Part A — Data loading and Baseline Model\n",
    "\n",
    "This section:\n",
    "- Loads the dataset\n",
    "- Shows class distribution and imbalance ratio\n",
    "- Splits into train/test (test kept imbalanced)\n",
    "- Trains a baseline Logistic Regression model (scaled features)\n"
   ]
  },
  {
   "cell_type": "code",
   "execution_count": null,
   "id": "ced92713",
   "metadata": {},
   "outputs": [
    {
     "name": "stdout",
     "output_type": "stream",
     "text": [
      "Dataset shape: (284807, 31)\n",
      "\n",
      "Class counts (0=non-fraud, 1=fraud):\n",
      "Class\n",
      "0    284315\n",
      "1       492\n",
      "Name: count, dtype: int64\n",
      "\n",
      "Imbalance ratio ≈ 284315/492 = 577.88:1\n"
     ]
    },
    {
     "data": {
      "image/png": "[encoded data removed]",
      "text/plain": [
       "<Figure size 600x300 with 1 Axes>"
      ]
     },
     "metadata": {},
     "output_type": "display_data"
    },
    {
     "name": "stdout",
     "output_type": "stream",
     "text": [
      "\n",
      "Train class distribution:\n",
      "Class\n",
      "0    199020\n",
      "1       344\n",
      "Name: count, dtype: int64\n",
      "\n",
      "Test class distribution:\n",
      "Class\n",
      "0    85295\n",
      "1      148\n",
      "Name: count, dtype: int64\n",
      "\n",
      "Baseline model evaluation (on untouched imbalanced test set):\n",
      "               precision    recall  f1-score   support\n",
      "\n",
      "Non-Fraud (0)       1.00      1.00      1.00     85295\n",
      "    Fraud (1)       0.86      0.61      0.72       148\n",
      "\n",
      "     accuracy                           1.00     85443\n",
      "    macro avg       0.93      0.81      0.86     85443\n",
      " weighted avg       1.00      1.00      1.00     85443\n",
      "\n"
     ]
    },
    {
     "name": "stderr",
     "output_type": "stream",
     "text": [
      "c:\\Users\\hp victus\\AppData\\Local\\Programs\\Python\\Python312\\Lib\\site-packages\\sklearn\\linear_model\\_sag.py:348: ConvergenceWarning: The max_iter was reached which means the coef_ did not converge\n",
      "  warnings.warn(\n"
     ]
    }
   ],
   "source": [
    "# Part A: Load data, inspect, split, scale, baseline logistic regression\n",
    "import os\n",
    "import numpy as np\n",
    "import pandas as pd\n",
    "import matplotlib.pyplot as plt\n",
    "import seaborn as sns\n",
    "\n",
    "from sklearn.model_selection import train_test_split\n",
    "from sklearn.linear_model import LogisticRegression\n",
    "from sklearn.metrics import classification_report\n",
    "from sklearn.preprocessing import StandardScaler\n",
    "\n",
    "RANDOM_STATE = 42\n",
    "DATA_PATH = 'creditcard.csv'\n",
    "if not os.path.exists(DATA_PATH):\n",
    "    raise FileNotFoundError(\"Dataset not found at 'creditcard.csv'. Place the file in the working directory.\")\n",
    "\n",
    "df = pd.read_csv(DATA_PATH)\n",
    "print('Dataset shape:', df.shape)\n",
    "\n",
    "# Class distribution\n",
    "class_counts = df['Class'].value_counts().sort_index()\n",
    "print('\\nClass counts (0=non-fraud, 1=fraud):')\n",
    "print(class_counts)\n",
    "nonfraud = class_counts.get(0,0)\n",
    "fraud = class_counts.get(1,0)\n",
    "print(f\"\\nImbalance ratio ≈ {nonfraud}/{fraud} = {nonfraud/fraud:.2f}:1\")\n",
    "\n",
    "# Visualize a small bar plot\n",
    "plt.figure(figsize=(6,3))\n",
    "sns.countplot(x='Class', data=df)\n",
    "plt.title('Class counts')\n",
    "plt.show()\n",
    "\n",
    "# Train/test split\n",
    "X = df.drop(columns=['Class'])\n",
    "y = df['Class']\n",
    "X_train, X_test, y_train, y_test = train_test_split(X, y, test_size=0.3, stratify=y, random_state=RANDOM_STATE)\n",
    "print('\\nTrain class distribution:')\n",
    "print(y_train.value_counts())\n",
    "print('\\nTest class distribution:')\n",
    "print(y_test.value_counts())\n",
    "\n",
    "# Scaling features (important: keep scaler for all later transforms)\n",
    "scaler = StandardScaler()\n",
    "X_train_s = scaler.fit_transform(X_train)\n",
    "X_test_s = scaler.transform(X_test)\n",
    "\n",
    "# Baseline logistic regression (trained on imbalanced data)\n",
    "lr_baseline = LogisticRegression(solver='saga', max_iter=2000, random_state=RANDOM_STATE)\n",
    "lr_baseline.fit(X_train_s, y_train)\n",
    "\n",
    "# Save baseline predictions for later comparisons\n",
    "y_pred_baseline = lr_baseline.predict(X_test_s)\n",
    "\n",
    "# Baseline evaluation\n",
    "from sklearn.metrics import classification_report\n",
    "print('\\nBaseline model evaluation (on untouched imbalanced test set):')\n",
    "print(classification_report(y_test, y_pred_baseline, target_names=['Non-Fraud (0)', 'Fraud (1)']))\n"
   ]
  },
  {
   "cell_type": "markdown",
   "id": "a950de93",
   "metadata": {},
   "source": [
    "## Part B — GMM-only oversampling and GMM + CBU combined approach\n",
    "\n",
    "We implement two resampling strategies (both applied only to the training set):\n",
    "\n",
    "1. **GMM-only:** Fit GMM on scaled minority training data and sample synthetic minority points until minority size ≈ majority size (simple oversampling).\n",
    "2. **GMM + CBU (combined):** First perform CBU (cluster-based undersampling) to reduce the majority to a target (e.g., half the minority), then sample synthetic minority using GMM to bring minority up to the same per-class target as the undersampled majority.\n",
    "\n",
    "Run the GMM selection step (AIC/BIC) first, then run the two workflows below (GMM-only and GMM+CBU)."
   ]
  },
  {
   "cell_type": "markdown",
   "id": "433b04ee",
   "metadata": {},
   "source": [
    "### B1: Theoretical Foundation\n",
    "\n",
    "**GMM-based synthetic sampling vs. simpler methods like SMOTE**\n",
    "\n",
    "- **SMOTE (Synthetic Minority Oversampling Technique)** generates new samples by interpolating between existing minority points and their nearest neighbors. While simple and efficient, it assumes local linearity in feature space and may produce synthetic points that fall in overlapping or noisy regions, especially when the minority distribution is non-linear or multi-modal.\n",
    "\n",
    "- **Gaussian Mixture Model (GMM)-based sampling** takes a probabilistic approach. It fits the minority class using a mixture of Gaussian distributions, where each component represents a sub-cluster of the minority data. Synthetic points are then sampled according to the estimated mixture distribution. This method explicitly models the underlying probability density rather than relying on linear interpolation.\n",
    "\n",
    "**Why GMM is theoretically better**\n",
    "\n",
    "- Minority classes in fraud detection often consist of **multiple sub-groups** (different fraud strategies) that are not well captured by linear methods like SMOTE.  \n",
    "- GMM can capture **multi-modal distributions** (several peaks) and **complex shapes** by combining multiple Gaussian components.  \n",
    "- The covariance matrices of the Gaussian components allow GMM to account for **correlated features**, making the generated samples more realistic.  \n",
    "- By sampling according to mixture weights, GMM ensures the **relative prevalence of sub-groups** in the minority class is preserved, reducing the risk of generating noisy or implausible data.\n",
    "\n",
    "**Conclusion:**  \n",
    "GMM-based sampling provides a more flexible and probabilistically sound way of generating synthetic minority data, especially when the minority class is heterogeneous and exhibits complex structures in feature space. This often leads to better generalization in downstream classifiers compared to simpler methods like SMOTE.\n"
   ]
  },
  {
   "cell_type": "markdown",
   "id": "3700731f",
   "metadata": {},
   "source": [
    "### Determining the Optimal Number of Components (k) for GMM\n",
    "\n",
    "To decide the number of Gaussian components (`k`) in the GMM, we compared models using the **Akaike Information Criterion (AIC)** and **Bayesian Information Criterion (BIC)**:\n",
    "\n",
    "- **AIC** rewards goodness of fit but penalizes model complexity less strictly.  \n",
    "- **BIC** includes a stronger penalty for additional parameters, making it more conservative and less prone to overfitting.\n",
    "\n",
    "**Procedure:**\n",
    "1. Fit multiple GMMs on the scaled minority data with `k` ranging from 1 to 10.  \n",
    "2. Record the AIC and BIC values for each fitted model.  \n",
    "3. Plot AIC and BIC versus `k` to visualize the trade-off between model fit and complexity.  \n",
    "4. Select the `k` that minimizes BIC (preferred for avoiding overly complex models).  \n",
    "\n",
    "**Justification:**\n",
    "- The chosen `k` corresponds to the lowest BIC value, indicating the model balances goodness of fit and parsimony.  \n",
    "- While AIC may suggest slightly larger `k`, BIC is stricter and avoids overfitting small fluctuations in the minority data.  \n",
    "- Thus, the selected `k` represents the **most probable number of sub-clusters in the minority class**, ensuring that synthetic samples generated by the GMM realistically reflect the underlying distribution.\n",
    "\n",
    "**Conclusion:**  \n",
    "Using AIC/BIC provides an objective, quantitative method for model selection. By choosing the `k` that minimizes BIC, we ensure that our GMM captures the minority distribution’s complexity without introducing unnecessary components.\n"
   ]
  },
  {
   "cell_type": "code",
   "execution_count": 3,
   "id": "5fab9db5",
   "metadata": {},
   "outputs": [
    {
     "data": {
      "image/png": "[encoded data removed]",
      "text/plain": [
       "<Figure size 800x300 with 1 Axes>"
      ]
     },
     "metadata": {},
     "output_type": "display_data"
    },
    {
     "name": "stdout",
     "output_type": "stream",
     "text": [
      "k (min BIC) = 3, k (min AIC) = 53\n",
      "Selected gmm_best with components = 3\n"
     ]
    }
   ],
   "source": [
    "# B.0: GMM selection (AIC/BIC) on scaled minority data\n",
    "from sklearn.mixture import GaussianMixture\n",
    "import matplotlib.pyplot as plt\n",
    "import numpy as np\n",
    "\n",
    "# Prepare scaled minority data\n",
    "X_minority = X_train[y_train == 1].copy()\n",
    "X_minority_s = scaler.transform(X_minority)\n",
    "\n",
    "# Fit GMMs across a range of components and collect AIC/BIC\n",
    "n_components_range = range(1, 101)\n",
    "aic_scores = []\n",
    "bic_scores = []\n",
    "gmm_models = {}\n",
    "for k in n_components_range:\n",
    "    gmm = GaussianMixture(n_components=k, covariance_type='full', random_state=RANDOM_STATE, n_init=5)\n",
    "    gmm.fit(X_minority_s)\n",
    "    aic_scores.append(gmm.aic(X_minority_s))\n",
    "    bic_scores.append(gmm.bic(X_minority_s))\n",
    "    gmm_models[k] = gmm\n",
    "\n",
    "# Plot AIC & BIC\n",
    "plt.figure(figsize=(8,3))\n",
    "plt.plot(list(n_components_range), aic_scores, marker='o', label='AIC')\n",
    "plt.plot(list(n_components_range), bic_scores, marker='o', label='BIC')\n",
    "plt.xlabel('n_components (k)')\n",
    "plt.title('GMM model selection (AIC & BIC) on minority class (scaled features)')\n",
    "plt.legend(); plt.grid(True); plt.show()\n",
    "\n",
    "# Choose k by BIC by default\n",
    "k_bic = int(n_components_range[np.argmin(bic_scores)])\n",
    "k_aic = int(n_components_range[np.argmin(aic_scores)])\n",
    "print(f'k (min BIC) = {k_bic}, k (min AIC) = {k_aic}')\n",
    "\n",
    "gmm_best = gmm_models[k_bic]\n",
    "# gmm_best = 20\n",
    "print('Selected gmm_best with components =', k_bic)"
   ]
  },
  {
   "cell_type": "markdown",
   "id": "4d039d21",
   "metadata": {},
   "source": [
    "### B.2 & B.3 GMM Implementation and sampling\n",
    "\n",
    "This workflow generates synthetic minority points from `gmm_best` until minority ≈ majority. Then train a model on the resulting balanced set."
   ]
  },
  {
   "cell_type": "code",
   "execution_count": 4,
   "id": "a3526fb0",
   "metadata": {},
   "outputs": [
    {
     "name": "stdout",
     "output_type": "stream",
     "text": [
      "Training counts - majority: 199020 minority: 344\n",
      "Synthetic minority to generate for GMM-only: 198676\n",
      "Generated synthetic samples for GMM-only: (198676, 31)\n",
      "GMM-only training set shape: (398040, 30)\n",
      "Class counts: 0    199020\n",
      "1    199020\n",
      "Name: count, dtype: int64\n"
     ]
    }
   ],
   "source": [
    "# GMM-only oversampling workflow\n",
    "# Counts\n",
    "n_majority = int((y_train == 0).sum())\n",
    "n_minority = int((y_train == 1).sum())\n",
    "print('Training counts - majority:', n_majority, 'minority:', n_minority)\n",
    "\n",
    "# Synthetic required to match majority\n",
    "synth_needed_gmm_only = max(0, n_majority - n_minority)\n",
    "print('Synthetic minority to generate for GMM-only:', synth_needed_gmm_only)\n",
    "\n",
    "# Sample from gmm_best in scaled space, then inverse-transform\n",
    "if synth_needed_gmm_only > 0:\n",
    "    X_syn_s_gmm, _ = gmm_best.sample(synth_needed_gmm_only)\n",
    "    X_syn_gmm = scaler.inverse_transform(X_syn_s_gmm)\n",
    "    X_syn_gmm_df = pd.DataFrame(X_syn_gmm, columns=X_train.columns)\n",
    "    X_syn_gmm_df['Class'] = 1\n",
    "    print('Generated synthetic samples for GMM-only:', X_syn_gmm_df.shape)\n",
    "else:\n",
    "    X_syn_gmm_df = pd.DataFrame(columns=list(X_train.columns) + ['Class'])\n",
    "    print('No synthetic needed for GMM-only.')\n",
    "\n",
    "# Build GMM-only balanced training set: original majority + original minority + synthetic minority\n",
    "X_minority_orig = X_train[y_train == 1].reset_index(drop=True)\n",
    "X_majority_orig = X_train[y_train == 0].reset_index(drop=True)\n",
    "\n",
    "X_gmm_only = pd.concat([X_majority_orig, X_minority_orig, X_syn_gmm_df.drop(columns=['Class'])], axis=0).reset_index(drop=True)\n",
    "y_gmm_only = pd.Series([0]*len(X_majority_orig) + [1]*len(X_minority_orig) + [1]*len(X_syn_gmm_df))\n",
    "\n",
    "print('GMM-only training set shape:', X_gmm_only.shape)\n",
    "print('Class counts:', y_gmm_only.value_counts())"
   ]
  },
  {
   "cell_type": "markdown",
   "id": "8c79b812",
   "metadata": {},
   "source": [
    "### B.4 Revalancing with CBU (combined CBU + GMM):\n",
    "\n",
    "Procedure:\n",
    "- Undersample majority via CBU to `undersample_ratio_of_minority * n_minority` (default ratio=0.5).\n",
    "- Sample synthetic minority points from `gmm_best` to raise minority to the same per-class target as the undersampled majority.\n",
    "- Combine undersampled majority + original minority + synthetic minority to form balanced training set."
   ]
  },
  {
   "cell_type": "code",
   "execution_count": 16,
   "id": "fdaa6813",
   "metadata": {},
   "outputs": [
    {
     "name": "stdout",
     "output_type": "stream",
     "text": [
      "CBU: undersampled_majority_target = 688\n",
      "After CBU: majority size = 688 (allocated sum = 688 )\n",
      "final_target = 688 synthetic_needed_combined = 344\n",
      "Generated synthetic samples for combined GMM+CBU: (344, 31)\n",
      "GMM+CBU training set shape: (1376, 30)\n",
      "Class counts: 0    688\n",
      "1    688\n",
      "Name: count, dtype: int64\n"
     ]
    }
   ],
   "source": [
    "# Parameters for combined workflow\n",
    "k_cbu = 11 # number of clusters for CBU\n",
    "undersample_ratio_of_minority = 2   # majority reduced to this * n_minority\n",
    "\n",
    "# 1) Undersample majority (CBU)\n",
    "from sklearn.cluster import KMeans\n",
    "X_majority = X_train[y_train == 0].copy().reset_index(drop=True)\n",
    "X_majority_s = scaler.transform(X_majority)\n",
    "\n",
    "undersampled_majority_target = int(round(undersample_ratio_of_minority * n_minority))\n",
    "undersampled_majority_target = max(1, undersampled_majority_target)\n",
    "print('CBU: undersampled_majority_target =', undersampled_majority_target)\n",
    "\n",
    "kmeans_maj = KMeans(n_clusters=k_cbu, random_state=RANDOM_STATE, n_init=10)\n",
    "maj_labels = kmeans_maj.fit_predict(X_majority_s)\n",
    "X_majority['cluster'] = maj_labels\n",
    "\n",
    "resampled_majority_parts = []\n",
    "allocated = 0\n",
    "clusters = sorted(X_majority['cluster'].unique())\n",
    "total_major = len(X_majority)\n",
    "\n",
    "for i, c in enumerate(clusters):\n",
    "    part = X_majority[X_majority['cluster'] == c].drop(columns=['cluster'])\n",
    "    if i < len(clusters) - 1:\n",
    "        target = int(round((len(part) / total_major) * undersampled_majority_target))\n",
    "    else:\n",
    "        target = undersampled_majority_target - allocated\n",
    "    target = max(1, min(target, len(part)))\n",
    "    sampled = part.sample(n=target, replace=False, random_state=RANDOM_STATE)\n",
    "    resampled_majority_parts.append(sampled)\n",
    "    allocated += target\n",
    "\n",
    "X_cbu_majority = pd.concat(resampled_majority_parts, axis=0).reset_index(drop=True)\n",
    "print('After CBU: majority size =', len(X_cbu_majority), '(allocated sum =', allocated, ')')\n",
    "\n",
    "# 2) Decide final target and synthetic needed\n",
    "final_target = max(len(X_cbu_majority), n_minority)\n",
    "synthetic_needed_combined = int(max(0, final_target - n_minority))\n",
    "print('final_target =', final_target, 'synthetic_needed_combined =', synthetic_needed_combined)\n",
    "\n",
    "# 3) Sample synthetic minority points from gmm_best and inverse-transform\n",
    "if synthetic_needed_combined > 0:\n",
    "    X_syn_s_comb, _ = gmm_best.sample(synthetic_needed_combined)\n",
    "    X_syn_comb = scaler.inverse_transform(X_syn_s_comb)\n",
    "    X_syn_comb_df = pd.DataFrame(X_syn_comb, columns=X_train.columns)\n",
    "    X_syn_comb_df['Class'] = 1\n",
    "    print('Generated synthetic samples for combined GMM+CBU:', X_syn_comb_df.shape)\n",
    "else:\n",
    "    X_syn_comb_df = pd.DataFrame(columns=list(X_train.columns) + ['Class'])\n",
    "    print('No synthetic needed for combined approach.')\n",
    "\n",
    "# 4) Build combined balanced training set\n",
    "X_minority_orig = X_train[y_train == 1].reset_index(drop=True)\n",
    "X_gmm_cbu = pd.concat([X_cbu_majority, X_minority_orig, X_syn_comb_df.drop(columns=['Class'])], axis=0).reset_index(drop=True)\n",
    "y_gmm_cbu = pd.Series([0]*len(X_cbu_majority) + [1]*len(X_minority_orig) + [1]*len(X_syn_comb_df))\n",
    "\n",
    "print('GMM+CBU training set shape:', X_gmm_cbu.shape)\n",
    "print('Class counts:', y_gmm_cbu.value_counts())"
   ]
  },
  {
   "cell_type": "markdown",
   "id": "dd884937",
   "metadata": {},
   "source": [
    "## Part C — Train & Evaluate Models\n",
    "\n",
    "Train Logistic Regression models on:\n",
    "- Baseline (already trained)\n",
    "- GMM-only balanced data\n",
    "- GMM + CBU balanced data\n",
    "\n",
    "Evaluate all models on the untouched imbalanced test set and produce a comparison table (Precision, Recall, F1, ROC-AUC)."
   ]
  },
  {
   "cell_type": "code",
   "execution_count": 17,
   "id": "cdeb7478",
   "metadata": {},
   "outputs": [
    {
     "name": "stdout",
     "output_type": "stream",
     "text": [
      "Comparison table (Baseline vs GMM-only vs GMM+CBU):\n"
     ]
    },
    {
     "data": {
      "text/html": [
       "<div>\n",
       "<style scoped>\n",
       "    .dataframe tbody tr th:only-of-type {\n",
       "        vertical-align: middle;\n",
       "    }\n",
       "\n",
       "    .dataframe tbody tr th {\n",
       "        vertical-align: top;\n",
       "    }\n",
       "\n",
       "    .dataframe thead th {\n",
       "        text-align: right;\n",
       "    }\n",
       "</style>\n",
       "<table border=\"1\" class=\"dataframe\">\n",
       "  <thead>\n",
       "    <tr style=\"text-align: right;\">\n",
       "      <th></th>\n",
       "      <th>precision</th>\n",
       "      <th>recall</th>\n",
       "      <th>f1</th>\n",
       "    </tr>\n",
       "  </thead>\n",
       "  <tbody>\n",
       "    <tr>\n",
       "      <th>Baseline</th>\n",
       "      <td>0.8585</td>\n",
       "      <td>0.6149</td>\n",
       "      <td>0.7165</td>\n",
       "    </tr>\n",
       "    <tr>\n",
       "      <th>GMM-only</th>\n",
       "      <td>0.0887</td>\n",
       "      <td>0.8581</td>\n",
       "      <td>0.1609</td>\n",
       "    </tr>\n",
       "    <tr>\n",
       "      <th>GMM+CBU</th>\n",
       "      <td>0.0692</td>\n",
       "      <td>0.8581</td>\n",
       "      <td>0.1280</td>\n",
       "    </tr>\n",
       "  </tbody>\n",
       "</table>\n",
       "</div>"
      ],
      "text/plain": [
       "          precision  recall      f1\n",
       "Baseline     0.8585  0.6149  0.7165\n",
       "GMM-only     0.0887  0.8581  0.1609\n",
       "GMM+CBU      0.0692  0.8581  0.1280"
      ]
     },
     "metadata": {},
     "output_type": "display_data"
    },
    {
     "name": "stdout",
     "output_type": "stream",
     "text": [
      "\n",
      "Baseline classification report:\n",
      "               precision    recall  f1-score   support\n",
      "\n",
      "Non-Fraud (0)       1.00      1.00      1.00     85295\n",
      "    Fraud (1)       0.86      0.61      0.72       148\n",
      "\n",
      "     accuracy                           1.00     85443\n",
      "    macro avg       0.93      0.81      0.86     85443\n",
      " weighted avg       1.00      1.00      1.00     85443\n",
      "\n",
      "\n",
      "GMM-only classification report:\n",
      "               precision    recall  f1-score   support\n",
      "\n",
      "Non-Fraud (0)       1.00      0.98      0.99     85295\n",
      "    Fraud (1)       0.09      0.86      0.16       148\n",
      "\n",
      "     accuracy                           0.98     85443\n",
      "    macro avg       0.54      0.92      0.58     85443\n",
      " weighted avg       1.00      0.98      0.99     85443\n",
      "\n",
      "\n",
      "GMM+CBU classification report:\n",
      "               precision    recall  f1-score   support\n",
      "\n",
      "Non-Fraud (0)       1.00      0.98      0.99     85295\n",
      "    Fraud (1)       0.07      0.86      0.13       148\n",
      "\n",
      "     accuracy                           0.98     85443\n",
      "    macro avg       0.53      0.92      0.56     85443\n",
      " weighted avg       1.00      0.98      0.99     85443\n",
      "\n"
     ]
    },
    {
     "data": {
      "text/plain": [
       "<Figure size 1000x400 with 0 Axes>"
      ]
     },
     "metadata": {},
     "output_type": "display_data"
    },
    {
     "data": {
      "image/png": "[encoded data removed]",
      "text/plain": [
       "<Figure size 640x480 with 1 Axes>"
      ]
     },
     "metadata": {},
     "output_type": "display_data"
    }
   ],
   "source": [
    "# Train models on GMM-only and GMM+CBU balanced datasets and evaluate on original test set\n",
    "from sklearn.linear_model import LogisticRegression\n",
    "from sklearn.metrics import classification_report, precision_score, recall_score, f1_score, roc_auc_score\n",
    "\n",
    "# Train on GMM-only\n",
    "X_gmm_only_s = scaler.transform(X_gmm_only)\n",
    "lr_gmm_only = LogisticRegression(solver='saga', max_iter=2000, random_state=RANDOM_STATE)\n",
    "lr_gmm_only.fit(X_gmm_only_s, y_gmm_only)\n",
    "y_pred_gmm_only = lr_gmm_only.predict(X_test_s)\n",
    "\n",
    "# Train on GMM+CBU\n",
    "X_gmm_cbu_s = scaler.transform(X_gmm_cbu)\n",
    "lr_gmm_cbu = LogisticRegression(solver='saga', max_iter=2000, random_state=RANDOM_STATE)\n",
    "lr_gmm_cbu.fit(X_gmm_cbu_s, y_gmm_cbu)\n",
    "y_pred_gmm_cbu = lr_gmm_cbu.predict(X_test_s)\n",
    "\n",
    "# Evaluate and collect metrics\n",
    "def eval_dict(y_true, y_pred, model=None):\n",
    "    return {\n",
    "        'precision': precision_score(y_true, y_pred, zero_division=0),\n",
    "        'recall': recall_score(y_true, y_pred, zero_division=0),\n",
    "        'f1': f1_score(y_true, y_pred, zero_division=0),\n",
    "    }\n",
    "\n",
    "# Comparative analysis\n",
    "results = {}\n",
    "results['Baseline'] = eval_dict(y_test, y_pred_baseline, model=lr_baseline)\n",
    "results['GMM-only'] = eval_dict(y_test, y_pred_gmm_only, model=lr_gmm_only)\n",
    "results['GMM+CBU'] = eval_dict(y_test, y_pred_gmm_cbu, model=lr_gmm_cbu)\n",
    "\n",
    "res_df = pd.DataFrame(results).T.round(4)\n",
    "print('Comparison table (Baseline vs GMM-only vs GMM+CBU):')\n",
    "display(res_df)\n",
    "\n",
    "# Print classification reports as well\n",
    "print('\\nBaseline classification report:') \n",
    "print(classification_report(y_test, y_pred_baseline, target_names=['Non-Fraud (0)', 'Fraud (1)']))\n",
    "print('\\nGMM-only classification report:') \n",
    "print(classification_report(y_test, y_pred_gmm_only, target_names=['Non-Fraud (0)', 'Fraud (1)']))\n",
    "print('\\nGMM+CBU classification report:') \n",
    "print(classification_report(y_test, y_pred_gmm_cbu, target_names=['Non-Fraud (0)', 'Fraud (1)']))\n",
    "\n",
    "# Plot metrics\n",
    "import matplotlib.pyplot as plt\n",
    "plt.figure(figsize=(10,4))\n",
    "res_df[['precision','recall','f1']].plot(kind='bar')\n",
    "plt.title('Model comparison (Precision, Recall, F1)')\n",
    "plt.xticks(rotation=0)\n",
    "plt.show()"
   ]
  },
  {
   "cell_type": "markdown",
   "id": "43f7ff1a",
   "metadata": {},
   "source": [
    "### Final Recommendation\n",
    "\n",
    "Our analysis compared three models: **Baseline**, **GMM-only oversampling**, and **GMM + CBU combined approach**.\n",
    "\n",
    "- **Baseline model** achieved high precision (~0.86) and a balanced F1 (~0.70), but recall was relatively low. This means it correctly identified many non-frauds but still missed a considerable portion of frauds.  \n",
    "- **GMM-only** significantly boosted recall (~0.85) but at the cost of extremely low precision and F1. The model flagged many transactions as fraud, but most were false alarms, making it impractical in real-world deployment.  \n",
    "- **GMM + CBU combined** pushed recall even higher (~0.90+) but suffered from very low precision and F1. While effective at catching fraud, the huge number of false positives would overwhelm investigators and reduce trust in the system.  \n",
    "\n",
    "**Interpretation:**  \n",
    "- The results show that **GMM-based synthetic data generation does succeed at modeling the minority distribution to increase recall**, but it also **introduces significant noise**, reducing precision and F1.  \n",
    "- This aligns with the theoretical understanding: GMM captures complex distributions well, but oversampling can produce borderline or overlapping points, which shift the classifier towards predicting more fraud than exists.  \n",
    "- The CBU step ensures diversity in the majority class but reduces its size too aggressively, which further biases the classifier toward the minority.\n",
    "\n",
    "**Recommendation:**  \n",
    "While GMM is theoretically a powerful method for capturing multi-modal fraud distributions, in practice it should be applied **with caution**.  \n",
    "- **GMM-only oversampling** may be acceptable if the goal is to maximize recall at all costs (e.g., flagging every possible fraud for secondary screening).  \n",
    "- **GMM + CBU**, despite its even higher recall, produces too many false positives to be practical in most fraud detection contexts.  \n",
    "- A more balanced approach could involve **limiting oversampling, adjusting class weights, or combining GMM with stricter evaluation thresholds**.  \n",
    "\n",
    "Therefore, we recommend using **baseline models with class-weight adjustments or carefully tuned oversampling ratios**, and treating GMM-based methods as exploratory tools rather than the default solution for production fraud detection systems.\n"
   ]
  }
 ],
 "metadata": {
  "kernelspec": {
   "display_name": "Python 3",
   "language": "python",
   "name": "python3"
  },
  "language_info": {
   "codemirror_mode": {
    "name": "ipython",
    "version": 3
   },
   "file_extension": ".py",
   "mimetype": "text/x-python",
   "name": "python",
   "nbconvert_exporter": "python",
   "pygments_lexer": "ipython3",
   "version": "3.12.3"
  }
 },
 "nbformat": 4,
 "nbformat_minor": 5
}
